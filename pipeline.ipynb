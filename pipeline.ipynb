{
 "cells": [
  {
   "cell_type": "code",
   "execution_count": 2,
   "id": "49f8d758-2bc2-4ea5-80b6-5b989e5c9ac5",
   "metadata": {
    "tags": []
   },
   "outputs": [],
   "source": [
    "# SageMakerセッションを作成する\n",
    "import sagemaker\n",
    "import boto3\n",
    "import botocore.config\n",
    "import sagemaker\n",
    "import pandas as pd\n",
    "import time\n",
    "import datetime\n",
    "\n",
    "sess = sagemaker.Session()\n",
    "bucket = sess.default_bucket()\n",
    "role = sagemaker.get_execution_role()\n",
    "region = boto3.Session().region_name\n",
    "\n",
    "sm = boto3.Session().client(service_name=\"sagemaker\", region_name=region)\n",
    "s3 = boto3.Session().client(service_name=\"s3\", region_name=region)\n",
    "featurestore_runtime = boto3.Session().client(service_name=\"sagemaker-featurestore-runtime\", region_name=region)\n",
    "\n",
    "timestamp = datetime.datetime.now().strftime('%Y-%m-%d-%H-%M-%S')"
   ]
  },
  {
   "cell_type": "code",
   "execution_count": 3,
   "id": "bb3a791f-65c2-4cd2-a0f6-31ef302098ec",
   "metadata": {
    "tags": []
   },
   "outputs": [],
   "source": [
    "PIPELINE_NAME = f\"reviews-bert-pipeline-{timestamp}\"\n",
    "INPUT_S3_URI = \"s3://youichiro-amazon-reviews-pds/tsv/amazon_reviews_us_Digital_Software_v1_00.tsv.gz\"\n",
    "FEATURE_STORE_OFFLINE_PREFIX=f\"reviews-feature-store-{timestamp}\"\n",
    "FEATURE_GROUP_NAME=f\"reviews-feature-group-{timestamp}\"\n",
    "MODEL_NAME=f\"reviews-bert-model-{timestamp}\"\n",
    "MODEL_PACKAGE_GROUP_NAME=f\"reviews-bert-model-group-{timestamp}\"\n",
    "PREPROCESSING_SCRIPT_PATH=\"./src/preprocessing.py\"\n",
    "TRAIN_SCRIPT_PATH=\"./src/train.py\"\n",
    "EVALUATION_SCRIPT_PATH=\"./src/evaluation.py\""
   ]
  },
  {
   "cell_type": "code",
   "execution_count": 4,
   "id": "085e3e53-c84f-4ba4-a163-8041f36a5ab8",
   "metadata": {
    "tags": []
   },
   "outputs": [],
   "source": [
    "# Experimentを定義する\n",
    "from smexperiments.experiment import Experiment\n",
    "\n",
    "pipeline_experiment = Experiment.create(\n",
    "    experiment_name=PIPELINE_NAME,\n",
    "    description=\"Amazon Customer Reviews BERT Pipeline Experiment\",\n",
    "    sagemaker_boto_client=sm,\n",
    ")\n",
    "pipeline_experiment_name = pipeline_experiment.experiment_name"
   ]
  },
  {
   "cell_type": "code",
   "execution_count": 5,
   "id": "03ca2af7-e444-42d5-8f1f-f57617decbc8",
   "metadata": {
    "tags": []
   },
   "outputs": [],
   "source": [
    "# パイプラインのパラメータを設定する\n",
    "from sagemaker.workflow.parameters import ParameterString, ParameterInteger, ParameterFloat\n",
    "\n",
    "processing_instance_count    = ParameterInteger(name=\"ProcessingInstanceCount\", default_value=1)\n",
    "processing_instance_type     = ParameterString(name=\"ProcessingInstanceType\", default_value=\"ml.c5.2xlarge\")\n",
    "train_instance_type          = ParameterString(name=\"TrainInstanceType\", default_value=\"ml.c5.9xlarge\")\n",
    "train_instance_count         = ParameterInteger(name=\"TrainInstanceCount\", default_value=1)"
   ]
  },
  {
   "cell_type": "code",
   "execution_count": 6,
   "id": "0d625b30-adfe-4941-9915-b709d430954a",
   "metadata": {},
   "outputs": [
    {
     "name": "stderr",
     "output_type": "stream",
     "text": [
      "INFO:sagemaker.image_uris:Same images used for training and inference. Defaulting to image scope: inference.\n",
      "INFO:sagemaker.image_uris:Defaulting to only available Python version: py3\n"
     ]
    }
   ],
   "source": [
    "# SKLearnProcessorを定義する\n",
    "from sagemaker.sklearn.processing import SKLearnProcessor\n",
    "\n",
    "processor = SKLearnProcessor(\n",
    "    framework_version=\"0.23-1\",\n",
    "    role=role,\n",
    "    instance_type=processing_instance_type,\n",
    "    instance_count=processing_instance_count,\n",
    "    env={\"AWS_DEFAULT_REGION\": region},\n",
    ")"
   ]
  },
  {
   "cell_type": "code",
   "execution_count": 8,
   "id": "aef7a22c-c87e-458d-956d-bea7e7ce035c",
   "metadata": {
    "tags": []
   },
   "outputs": [],
   "source": [
    "# ProcessingStepを定義する\n",
    "from sagemaker.processing import ProcessingInput, ProcessingOutput\n",
    "from sagemaker.workflow.steps import ProcessingStep\n",
    "\n",
    "processing_step = ProcessingStep(\n",
    "    name=\"Processing\",\n",
    "    code=PREPROCESSING_SCRIPT_PATH,\n",
    "    processor=processor,\n",
    "    inputs=[\n",
    "        ProcessingInput(input_name=\"input\", source=INPUT_S3_URI, destination=\"/opt/ml/processing/input/data/\", s3_data_distribution_type=\"ShardedByS3Key\"),\n",
    "    ],\n",
    "    outputs=[\n",
    "        ProcessingOutput(output_name=\"train\", source=\"/opt/ml/processing/output/bert/train\"),\n",
    "        ProcessingOutput(output_name=\"validation\", source=\"/opt/ml/processing/output/bert/validation\"),\n",
    "        ProcessingOutput(output_name=\"test\", source=\"/opt/ml/processing/output/bert/test\"),\n",
    "    ],\n",
    "    job_arguments=[\n",
    "        \"--feature-store-offline-prefix\",\n",
    "        FEATURE_STORE_OFFLINE_PREFIX,\n",
    "        \"--feature-group-name\",\n",
    "        FEATURE_GROUP_NAME,\n",
    "    ],\n",
    ")"
   ]
  },
  {
   "cell_type": "code",
   "execution_count": 10,
   "id": "062514ed-fb72-4b4f-83d9-d605a520d6dc",
   "metadata": {
    "tags": []
   },
   "outputs": [],
   "source": [
    "# Estimatorを作成する\n",
    "from sagemaker.tensorflow import TensorFlow\n",
    "\n",
    "metrics_definitions = [\n",
    "    {\"Name\": \"train:loss\", \"Regex\": \"loss: ([0-9\\\\.]+)\"},\n",
    "    {\"Name\": \"train:accuracy\", \"Regex\": \"accuracy: ([0-9\\\\.]+)\"},\n",
    "    {\"Name\": \"validation:loss\", \"Regex\": \"val_loss: ([0-9\\\\.]+)\"},\n",
    "    {\"Name\": \"validation:accuracy\", \"Regex\": \"val_accuracy: ([0-9\\\\.]+)\"},\n",
    "]\n",
    "\n",
    "estimator = TensorFlow(\n",
    "    entry_point=TRAIN_SCRIPT_PATH,\n",
    "    role=role,\n",
    "    instance_count=train_instance_count,\n",
    "    instance_type=train_instance_type,\n",
    "    volume_size=train_volume_size,\n",
    "    py_version=\"py37\",\n",
    "    framework_version=\"2.3.1\",\n",
    "    hyperparameters={\n",
    "        \"epochs\": \"1\",\n",
    "        \"learning_rate\": \"0.00001\",\n",
    "        \"epsilon\": \"0.00000001\",\n",
    "        \"train_batch_size\": \"128\",\n",
    "        \"validation_batch_size\": \"128\",\n",
    "        \"test_batch_size\": \"128\",\n",
    "        \"train_steps_per_epoch\": \"50\",\n",
    "        \"validation_steps\": \"50\",\n",
    "        \"test_steps\": \"50\",\n",
    "        \"max_seq_length\": 64,\n",
    "        \"freeze_bert_layer\": \"False\",\n",
    "        \"enable_sagemaker_debugger\": \"True\",\n",
    "        \"enable_checkpointing\": \"True\",\n",
    "        \"enable_tensorboard\": \"True\",\n",
    "        \"run_validation\": \"True\",\n",
    "        \"run_test\": \"False\",\n",
    "        \"run_sample_predictions\": \"False\",\n",
    "    },\n",
    "    input_mode=\"File\",\n",
    "    metric_definitions=metrics_definitions,\n",
    "    model_dir=f\"s3://{bucket}/model\"\n",
    ")"
   ]
  },
  {
   "cell_type": "code",
   "execution_count": 11,
   "id": "03aba8eb-b23c-4c24-a1f9-c3f6ff95d670",
   "metadata": {
    "tags": []
   },
   "outputs": [],
   "source": [
    "# TrainingStepを定義する\n",
    "from sagemaker.inputs import TrainingInput\n",
    "from sagemaker.workflow.steps import TrainingStep\n",
    "\n",
    "training_step = TrainingStep(\n",
    "    name=\"Train\",\n",
    "    estimator=estimator,\n",
    "    inputs={\n",
    "        \"train\": TrainingInput(\n",
    "            s3_data=processing_step.properties.ProcessingOutputConfig.Outputs[\"train\"].S3Output.S3Uri,\n",
    "            content_type=\"text/csv\",\n",
    "        ),\n",
    "        \"validation\": TrainingInput(\n",
    "            s3_data=processing_step.properties.ProcessingOutputConfig.Outputs[\"validation\"].S3Output.S3Uri,\n",
    "            content_type=\"text/csv\",\n",
    "        ),\n",
    "        \"test\": TrainingInput(\n",
    "            s3_data=processing_step.properties.ProcessingOutputConfig.Outputs[\"test\"].S3Output.S3Uri,\n",
    "            content_type=\"text/csv\",\n",
    "        ),\n",
    "    },\n",
    ")"
   ]
  },
  {
   "cell_type": "code",
   "execution_count": 12,
   "id": "9f855b8d-2b56-43db-988d-a61b987760a2",
   "metadata": {
    "tags": []
   },
   "outputs": [
    {
     "name": "stderr",
     "output_type": "stream",
     "text": [
      "INFO:sagemaker.image_uris:Same images used for training and inference. Defaulting to image scope: inference.\n",
      "INFO:sagemaker.image_uris:Defaulting to only available Python version: py3\n"
     ]
    }
   ],
   "source": [
    "from sagemaker.sklearn.processing import SKLearnProcessor\n",
    "\n",
    "evaluation_processor = SKLearnProcessor(\n",
    "    framework_version=\"0.23-1\",\n",
    "    role=role,\n",
    "    instance_type=processing_instance_type,\n",
    "    instance_count=processing_instance_count,\n",
    "    env={\"AWS_DEFAULT_REGION\": region},\n",
    "    max_runtime_in_seconds=7200,\n",
    ")"
   ]
  },
  {
   "cell_type": "code",
   "execution_count": 13,
   "id": "e8a7576c-c303-4c38-b3ad-20ca6edd3a89",
   "metadata": {},
   "outputs": [],
   "source": [
    "# EvaluationStepを定義する\n",
    "from sagemaker.workflow.properties import PropertyFile\n",
    "\n",
    "evaluation_report = PropertyFile(name=\"EvaluationReport\", output_name=\"metrics\", path=\"evaluation.json\")\n",
    "\n",
    "evaluation_step = ProcessingStep(\n",
    "    name=\"EvaluateModel\",\n",
    "    processor=evaluation_processor,\n",
    "    code=EVALUATION_SCRIPT_PATH,\n",
    "    inputs=[\n",
    "        ProcessingInput(\n",
    "            source=training_step.properties.ModelArtifacts.S3ModelArtifacts,\n",
    "            destination=\"/opt/ml/processing/input/model\",\n",
    "        ),\n",
    "        ProcessingInput(\n",
    "            source=processing_step.properties.ProcessingInputs[\"input\"].S3Input.S3Uri,\n",
    "            destination=\"/opt/ml/processing/input/data\",\n",
    "        ),\n",
    "    ],\n",
    "    outputs=[\n",
    "        ProcessingOutput(output_name=\"metrics\", source=\"/opt/ml/processing/output/metrics/\", s3_upload_mode=\"EndOfJob\"),\n",
    "    ],\n",
    "    property_files=[evaluation_report],\n",
    ")"
   ]
  },
  {
   "cell_type": "code",
   "execution_count": 14,
   "id": "b100a371-84c1-4cb9-86d3-15769156ea9e",
   "metadata": {},
   "outputs": [],
   "source": [
    "from sagemaker.model_metrics import MetricsSource, ModelMetrics\n",
    "\n",
    "model_metrics = ModelMetrics(\n",
    "    model_statistics=MetricsSource(\n",
    "        s3_uri=\"{}/evaluation.json\".format(\n",
    "            evaluation_step.arguments[\"ProcessingOutputConfig\"][\"Outputs\"][0][\"S3Output\"][\"S3Uri\"]\n",
    "        ),\n",
    "        content_type=\"application/json\",\n",
    "    )\n",
    ")"
   ]
  },
  {
   "cell_type": "code",
   "execution_count": 15,
   "id": "3237c9a6-1724-4479-abfb-4d413638dac3",
   "metadata": {
    "tags": []
   },
   "outputs": [],
   "source": [
    "deploy_instance_type = ParameterString(name=\"DeployInstanceType\", default_value=\"ml.m5.4xlarge\")\n",
    "deploy_instance_count = ParameterInteger(name=\"DeployInstanceCount\", default_value=1)"
   ]
  },
  {
   "cell_type": "code",
   "execution_count": 16,
   "id": "c70b1bd1-4e87-4896-9a51-99c4da25f41c",
   "metadata": {
    "tags": []
   },
   "outputs": [],
   "source": [
    "inference_image_uri = sagemaker.image_uris.retrieve(\n",
    "    framework=\"tensorflow\",\n",
    "    region=region,\n",
    "    version=\"2.3.1\",\n",
    "    instance_type=deploy_instance_type,\n",
    "    image_scope=\"inference\",\n",
    ")"
   ]
  },
  {
   "cell_type": "code",
   "execution_count": 17,
   "id": "3f73274d-7b89-4104-a637-22a65973e2c7",
   "metadata": {
    "tags": []
   },
   "outputs": [],
   "source": [
    "from sagemaker.workflow.step_collections import RegisterModel\n",
    "\n",
    "register_step = RegisterModel(\n",
    "    name=\"RegisterModel\",\n",
    "    estimator=estimator,\n",
    "    image_uri=inference_image_uri,\n",
    "    model_data=training_step.properties.ModelArtifacts.S3ModelArtifacts,\n",
    "    content_types=[\"application/jsonlines\"],\n",
    "    response_types=[\"application/jsonlines\"],\n",
    "    inference_instances=[deploy_instance_type],\n",
    "    transform_instances=[\"ml.m5.4xlarge\"],\n",
    "    model_package_group_name=MODEL_PACKAGE_GROUP_NAME,\n",
    "    approval_status=\"PendingManualApproval\",\n",
    ")"
   ]
  },
  {
   "cell_type": "code",
   "execution_count": 18,
   "id": "e6a7f50d-22cd-4078-89e2-1e315c309c10",
   "metadata": {
    "tags": []
   },
   "outputs": [],
   "source": [
    "from sagemaker.model import Model\n",
    "\n",
    "model = Model(\n",
    "    name=MODEL_NAME,\n",
    "    image_uri=inference_image_uri,\n",
    "    model_data=training_step.properties.ModelArtifacts.S3ModelArtifacts,\n",
    "    sagemaker_session=sess,\n",
    "    role=role,\n",
    ")"
   ]
  },
  {
   "cell_type": "code",
   "execution_count": 19,
   "id": "0a67ce67-639f-4836-9fe5-ebbdbbf82125",
   "metadata": {
    "tags": []
   },
   "outputs": [],
   "source": [
    "from sagemaker.inputs import CreateModelInput\n",
    "from sagemaker.workflow.steps import CreateModelStep\n",
    "\n",
    "create_inputs = CreateModelInput(instance_type=deploy_instance_type)\n",
    "create_step = CreateModelStep(\n",
    "    name=\"CreateModel\",\n",
    "    model=model,\n",
    "    inputs=create_inputs,\n",
    ")"
   ]
  },
  {
   "cell_type": "code",
   "execution_count": 20,
   "id": "fd858332-0505-4872-a71e-c81a299df673",
   "metadata": {
    "tags": []
   },
   "outputs": [
    {
     "name": "stderr",
     "output_type": "stream",
     "text": [
      "WARNING:sagemaker.deprecations:The class JsonGet has been renamed in sagemaker>=2.\n",
      "See: https://sagemaker.readthedocs.io/en/stable/v2.html for details.\n"
     ]
    }
   ],
   "source": [
    "from sagemaker.workflow.conditions import ConditionGreaterThanOrEqualTo\n",
    "from sagemaker.workflow.condition_step import ConditionStep, JsonGet\n",
    "\n",
    "min_accuracy_value = ParameterFloat(name=\"MinAccuracyValue\", default_value=0.10)\n",
    "minimum_accuracy_condition = ConditionGreaterThanOrEqualTo(\n",
    "    left=JsonGet(\n",
    "        step=evaluation_step,\n",
    "        property_file=evaluation_report,\n",
    "        json_path=\"metrics.accuracy.value\",\n",
    "    ),\n",
    "    right=min_accuracy_value,\n",
    ")\n",
    "minimum_accuracy_condition_step = ConditionStep(\n",
    "    name=\"AccuracyCondition\",\n",
    "    conditions=[minimum_accuracy_condition],\n",
    "    if_steps=[register_step, create_step],  # 条件を満たしたらモデル登録に進む\n",
    "    else_steps=[],  # 満たさなかったらパイプラインを終了する\n",
    ")"
   ]
  },
  {
   "cell_type": "code",
   "execution_count": 21,
   "id": "185b9efa-aa14-40c0-a594-12221d0e5ab3",
   "metadata": {
    "tags": []
   },
   "outputs": [
    {
     "name": "stderr",
     "output_type": "stream",
     "text": [
      "INFO:sagemaker.image_uris:Defaulting to the only supported framework/algorithm version: latest.\n",
      "INFO:sagemaker.image_uris:Ignoring unnecessary instance type: None.\n",
      "WARNING:sagemaker.estimator:No finished training job found associated with this estimator. Please make sure this estimator is only used for building workflow config\n"
     ]
    }
   ],
   "source": [
    "# パイプラインを実行する\n",
    "from sagemaker.workflow.pipeline import Pipeline\n",
    "\n",
    "pipeline = Pipeline(\n",
    "    name=PIPELINE_NAME,\n",
    "    parameters=[\n",
    "        processing_instance_count,\n",
    "        processing_instance_type,\n",
    "        train_instance_type,\n",
    "        train_instance_count,\n",
    "        deploy_instance_type,\n",
    "        deploy_instance_count,\n",
    "        min_accuracy_value,\n",
    "    ],\n",
    "    steps=[processing_step, training_step, evaluation_step, minimum_accuracy_condition_step],\n",
    "    sagemaker_session=sess,\n",
    ")\n",
    "pipeline.create(role_arn=role)[\"PipelineArn\"]\n",
    "execution = pipeline.start()"
   ]
  },
  {
   "cell_type": "code",
   "execution_count": null,
   "id": "183dc560-c458-4de3-a732-882ff6caef1e",
   "metadata": {},
   "outputs": [],
   "source": []
  }
 ],
 "metadata": {
  "forced_instance_type": "ml.t3.medium",
  "forced_lcc_arn": "",
  "instance_type": "ml.t3.medium",
  "kernelspec": {
   "display_name": "Python 3 (TensorFlow 2.6 Python 3.8 CPU Optimized)",
   "language": "python",
   "name": "python3__SAGEMAKER_INTERNAL__arn:aws:sagemaker:ap-northeast-1:102112518831:image/tensorflow-2.6-cpu-py38-ubuntu20.04-v1"
  },
  "language_info": {
   "codemirror_mode": {
    "name": "ipython",
    "version": 3
   },
   "file_extension": ".py",
   "mimetype": "text/x-python",
   "name": "python",
   "nbconvert_exporter": "python",
   "pygments_lexer": "ipython3",
   "version": "3.8.2"
  }
 },
 "nbformat": 4,
 "nbformat_minor": 5
}
